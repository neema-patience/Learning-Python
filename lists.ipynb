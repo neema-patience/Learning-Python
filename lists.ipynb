{
 "cells": [
  {
   "cell_type": "code",
   "execution_count": 1,
   "id": "a19eed4a",
   "metadata": {},
   "outputs": [],
   "source": [
    "cust_info=['Patience',23,'Kenya',15000, 11500, '450MB']"
   ]
  },
  {
   "cell_type": "code",
   "execution_count": 2,
   "id": "1015099e",
   "metadata": {},
   "outputs": [
    {
     "data": {
      "text/plain": [
       "list"
      ]
     },
     "execution_count": 2,
     "metadata": {},
     "output_type": "execute_result"
    }
   ],
   "source": [
    "type(cust_info)"
   ]
  },
  {
   "cell_type": "markdown",
   "id": "6b504c43",
   "metadata": {},
   "source": [
    "This is a normal list creation where the elements are a combination of integers and strings."
   ]
  },
  {
   "cell_type": "code",
   "execution_count": 3,
   "id": "7732ee8d",
   "metadata": {},
   "outputs": [],
   "source": [
    "cust_info_new=('Patience',23,'Kenya',15000,11500,'450MB')"
   ]
  },
  {
   "cell_type": "code",
   "execution_count": 4,
   "id": "eca6164e",
   "metadata": {},
   "outputs": [
    {
     "data": {
      "text/plain": [
       "tuple"
      ]
     },
     "execution_count": 4,
     "metadata": {},
     "output_type": "execute_result"
    }
   ],
   "source": [
    "type(cust_info_new)"
   ]
  },
  {
   "cell_type": "markdown",
   "id": "668a98ae",
   "metadata": {},
   "source": [
    "This is a tuple and its a special type of list created using parenthesis. It is used when the elements within the list are inteneded to not change constantly.\n"
   ]
  },
  {
   "cell_type": "code",
   "execution_count": null,
   "id": "1b6647a5",
   "metadata": {},
   "outputs": [
    {
     "data": {
      "text/plain": [
       "5"
      ]
     },
     "execution_count": 7,
     "metadata": {},
     "output_type": "execute_result"
    }
   ],
   "source": [
    "#Nested list - A list within a list. Check length of list using the function _len_\n",
    "list1=['Kenya','Dar es Salaam', 5, 10,['China','Hong Kong']]\n",
    "len(list1)"
   ]
  },
  {
   "cell_type": "code",
   "execution_count": null,
   "id": "47d93d4f",
   "metadata": {},
   "outputs": [
    {
     "data": {
      "text/plain": [
       "'Dar es Salaam'"
      ]
     },
     "execution_count": 14,
     "metadata": {},
     "output_type": "execute_result"
    }
   ],
   "source": [
    "#Indexing - Check the item in the lists using the following form;\n",
    "\n",
    "list1[1]"
   ]
  },
  {
   "cell_type": "code",
   "execution_count": null,
   "id": "0a92395b",
   "metadata": {},
   "outputs": [
    {
     "data": {
      "text/plain": [
       "'Hong Kong'"
      ]
     },
     "execution_count": 15,
     "metadata": {},
     "output_type": "execute_result"
    }
   ],
   "source": [
    "#Slicing - Check the item in the lists using the following form;\n",
    "\n",
    "list1[-1][1]"
   ]
  },
  {
   "cell_type": "code",
   "execution_count": null,
   "id": "d7ac7d6e",
   "metadata": {},
   "outputs": [
    {
     "data": {
      "text/plain": [
       "[1, 2, 3, 4, 5, 6, 7, 8]"
      ]
     },
     "execution_count": 17,
     "metadata": {},
     "output_type": "execute_result"
    }
   ],
   "source": [
    "#List Concantination \n",
    "\n",
    "list1=[1,2,3,4]\n",
    "list2=[5,6,7,8]\n",
    "\n",
    "list3 = list1 + list2\n",
    "list3"
   ]
  },
  {
   "cell_type": "code",
   "execution_count": null,
   "id": "3e65c00a",
   "metadata": {},
   "outputs": [
    {
     "name": "stdout",
     "output_type": "stream",
     "text": [
      "True\n",
      "False\n"
     ]
    }
   ],
   "source": [
    "#Membership in lists & tuples - Check if the element requested is within the list, use the following form\n",
    "\n",
    "list4 = [1,2,3,4]\n",
    "print(1 in list4)\n",
    "print(5 in list4)"
   ]
  },
  {
   "cell_type": "markdown",
   "id": "aec87f86",
   "metadata": {},
   "source": [
    "# Let's talk about the mutability of lists "
   ]
  },
  {
   "cell_type": "code",
   "execution_count": null,
   "id": "fffcd4a0",
   "metadata": {},
   "outputs": [
    {
     "name": "stdout",
     "output_type": "stream",
     "text": [
      "3\n"
     ]
    }
   ],
   "source": [
    "# Finidng the index of an element within a list, use index_of_item = listname.index('item'), print(index_of_item)\n",
    "list5 = ['Maths', 'Physics', 'Chemistry', 'Biology']\n",
    "index_of_biology = list5.index('Biology')\n",
    "print(index_of_biology)"
   ]
  },
  {
   "cell_type": "code",
   "execution_count": null,
   "id": "2efd6ce7",
   "metadata": {},
   "outputs": [],
   "source": [
    "# Modifying item within a common list"
   ]
  }
 ],
 "metadata": {
  "kernelspec": {
   "display_name": "Python 3",
   "language": "python",
   "name": "python3"
  },
  "language_info": {
   "codemirror_mode": {
    "name": "ipython",
    "version": 3
   },
   "file_extension": ".py",
   "mimetype": "text/x-python",
   "name": "python",
   "nbconvert_exporter": "python",
   "pygments_lexer": "ipython3",
   "version": "3.13.2"
  }
 },
 "nbformat": 4,
 "nbformat_minor": 5
}
